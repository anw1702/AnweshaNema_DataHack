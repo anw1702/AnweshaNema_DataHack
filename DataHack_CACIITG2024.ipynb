{
 "cells": [
  {
   "cell_type": "code",
   "execution_count": 59,
   "id": "ee22c8b1",
   "metadata": {},
   "outputs": [],
   "source": [
    "import pandas as pd\n",
    "import numpy as np\n",
    "from sklearn.experimental import enable_iterative_imputer  # noqa\n",
    "from sklearn.impute import IterativeImputer\n",
    "from sklearn.model_selection import train_test_split\n",
    "from sklearn.preprocessing import OneHotEncoder, StandardScaler\n",
    "from sklearn.compose import ColumnTransformer\n",
    "from sklearn.pipeline import Pipeline\n",
    "from sklearn.ensemble import RandomForestClassifier, GradientBoostingClassifier\n",
    "from sklearn.metrics import roc_auc_score\n",
    "from sklearn.linear_model import LinearRegression"
   ]
  },
  {
   "cell_type": "code",
   "execution_count": 60,
   "id": "fe0e829d",
   "metadata": {},
   "outputs": [],
   "source": [
    "# Load the datasets\n",
    "train_features = pd.read_csv('training_set_features.csv')\n",
    "train_labels = pd.read_csv('training_set_labels.csv')\n",
    "test_features = pd.read_csv('test_set_features.csv')"
   ]
  },
  {
   "cell_type": "code",
   "execution_count": 61,
   "id": "11694863",
   "metadata": {},
   "outputs": [],
   "source": [
    "# Identify categorical and numerical columns\n",
    "categorical_features = train_features.select_dtypes(include=['object']).columns.tolist()\n",
    "numeric_features = train_features.select_dtypes(include=[np.number]).columns.tolist()"
   ]
  },
  {
   "cell_type": "code",
   "execution_count": 62,
   "id": "db03143e",
   "metadata": {},
   "outputs": [],
   "source": [
    "# Remove 'respondent_id' from the features as it's not a predictive attribute\n",
    "numeric_features.remove('respondent_id')"
   ]
  },
  {
   "cell_type": "code",
   "execution_count": 63,
   "id": "c1068c29",
   "metadata": {},
   "outputs": [],
   "source": [
    "# Split the training set into features and labels (excluding 'respondent_id')\n",
    "X_train = train_features.drop('respondent_id', axis=1)\n",
    "y_train_xyz = train_labels['xyz_vaccine']\n",
    "y_train_seasonal = train_labels['seasonal_vaccine']"
   ]
  },
  {
   "cell_type": "code",
   "execution_count": 64,
   "id": "7e274179",
   "metadata": {},
   "outputs": [],
   "source": [
    "# Preprocessing for numerical and categorical data\n",
    "\n",
    "# changing the default BayesianRidge to LineraRegression to converge better\n",
    "preprocessor = ColumnTransformer(\n",
    "    transformers=[\n",
    "        ('num', IterativeImputer(estimator=LinearRegression(),max_iter=30), numeric_features),\n",
    "        ('cat', OneHotEncoder(handle_unknown='ignore'), categorical_features)\n",
    "    ]\n",
    ")"
   ]
  },
  {
   "cell_type": "code",
   "execution_count": 65,
   "id": "0fca6717",
   "metadata": {},
   "outputs": [],
   "source": [
    "# Define the models that can handle missing values directly\n",
    "model_xyz = GradientBoostingClassifier(n_estimators=100, random_state=42)\n",
    "model_seasonal = GradientBoostingClassifier(n_estimators=100, random_state=42)\n",
    "\n",
    "# Create pipelines for each target variable\n",
    "pipeline_xyz = Pipeline(steps=[('preprocessor', preprocessor),\n",
    "                               ('model', model_xyz)])\n",
    "pipeline_seasonal = Pipeline(steps=[('preprocessor', preprocessor),\n",
    "                                    ('model', model_seasonal)])"
   ]
  },
  {
   "cell_type": "code",
   "execution_count": 66,
   "id": "682d3cd1",
   "metadata": {},
   "outputs": [],
   "source": [
    "# Splitting the training data for validation purposes\n",
    "X_train_split, X_val_split, y_train_split_xyz, y_val_split_xyz = train_test_split(X_train, y_train_xyz, test_size=0.2, random_state=42)\n",
    "X_train_split, X_val_split, y_train_split_seasonal, y_val_split_seasonal = train_test_split(X_train, y_train_seasonal, test_size=0.2, random_state=42)"
   ]
  },
  {
   "cell_type": "code",
   "execution_count": 67,
   "id": "5b0b6129",
   "metadata": {},
   "outputs": [
    {
     "data": {
      "text/html": [
       "<style>#sk-container-id-6 {color: black;background-color: white;}#sk-container-id-6 pre{padding: 0;}#sk-container-id-6 div.sk-toggleable {background-color: white;}#sk-container-id-6 label.sk-toggleable__label {cursor: pointer;display: block;width: 100%;margin-bottom: 0;padding: 0.3em;box-sizing: border-box;text-align: center;}#sk-container-id-6 label.sk-toggleable__label-arrow:before {content: \"▸\";float: left;margin-right: 0.25em;color: #696969;}#sk-container-id-6 label.sk-toggleable__label-arrow:hover:before {color: black;}#sk-container-id-6 div.sk-estimator:hover label.sk-toggleable__label-arrow:before {color: black;}#sk-container-id-6 div.sk-toggleable__content {max-height: 0;max-width: 0;overflow: hidden;text-align: left;background-color: #f0f8ff;}#sk-container-id-6 div.sk-toggleable__content pre {margin: 0.2em;color: black;border-radius: 0.25em;background-color: #f0f8ff;}#sk-container-id-6 input.sk-toggleable__control:checked~div.sk-toggleable__content {max-height: 200px;max-width: 100%;overflow: auto;}#sk-container-id-6 input.sk-toggleable__control:checked~label.sk-toggleable__label-arrow:before {content: \"▾\";}#sk-container-id-6 div.sk-estimator input.sk-toggleable__control:checked~label.sk-toggleable__label {background-color: #d4ebff;}#sk-container-id-6 div.sk-label input.sk-toggleable__control:checked~label.sk-toggleable__label {background-color: #d4ebff;}#sk-container-id-6 input.sk-hidden--visually {border: 0;clip: rect(1px 1px 1px 1px);clip: rect(1px, 1px, 1px, 1px);height: 1px;margin: -1px;overflow: hidden;padding: 0;position: absolute;width: 1px;}#sk-container-id-6 div.sk-estimator {font-family: monospace;background-color: #f0f8ff;border: 1px dotted black;border-radius: 0.25em;box-sizing: border-box;margin-bottom: 0.5em;}#sk-container-id-6 div.sk-estimator:hover {background-color: #d4ebff;}#sk-container-id-6 div.sk-parallel-item::after {content: \"\";width: 100%;border-bottom: 1px solid gray;flex-grow: 1;}#sk-container-id-6 div.sk-label:hover label.sk-toggleable__label {background-color: #d4ebff;}#sk-container-id-6 div.sk-serial::before {content: \"\";position: absolute;border-left: 1px solid gray;box-sizing: border-box;top: 0;bottom: 0;left: 50%;z-index: 0;}#sk-container-id-6 div.sk-serial {display: flex;flex-direction: column;align-items: center;background-color: white;padding-right: 0.2em;padding-left: 0.2em;position: relative;}#sk-container-id-6 div.sk-item {position: relative;z-index: 1;}#sk-container-id-6 div.sk-parallel {display: flex;align-items: stretch;justify-content: center;background-color: white;position: relative;}#sk-container-id-6 div.sk-item::before, #sk-container-id-6 div.sk-parallel-item::before {content: \"\";position: absolute;border-left: 1px solid gray;box-sizing: border-box;top: 0;bottom: 0;left: 50%;z-index: -1;}#sk-container-id-6 div.sk-parallel-item {display: flex;flex-direction: column;z-index: 1;position: relative;background-color: white;}#sk-container-id-6 div.sk-parallel-item:first-child::after {align-self: flex-end;width: 50%;}#sk-container-id-6 div.sk-parallel-item:last-child::after {align-self: flex-start;width: 50%;}#sk-container-id-6 div.sk-parallel-item:only-child::after {width: 0;}#sk-container-id-6 div.sk-dashed-wrapped {border: 1px dashed gray;margin: 0 0.4em 0.5em 0.4em;box-sizing: border-box;padding-bottom: 0.4em;background-color: white;}#sk-container-id-6 div.sk-label label {font-family: monospace;font-weight: bold;display: inline-block;line-height: 1.2em;}#sk-container-id-6 div.sk-label-container {text-align: center;}#sk-container-id-6 div.sk-container {/* jupyter's `normalize.less` sets `[hidden] { display: none; }` but bootstrap.min.css set `[hidden] { display: none !important; }` so we also need the `!important` here to be able to override the default hidden behavior on the sphinx rendered scikit-learn.org. See: https://github.com/scikit-learn/scikit-learn/issues/21755 */display: inline-block !important;position: relative;}#sk-container-id-6 div.sk-text-repr-fallback {display: none;}</style><div id=\"sk-container-id-6\" class=\"sk-top-container\"><div class=\"sk-text-repr-fallback\"><pre>Pipeline(steps=[(&#x27;preprocessor&#x27;,\n",
       "                 ColumnTransformer(transformers=[(&#x27;num&#x27;,\n",
       "                                                  IterativeImputer(estimator=LinearRegression(),\n",
       "                                                                   max_iter=30),\n",
       "                                                  [&#x27;xyz_concern&#x27;,\n",
       "                                                   &#x27;xyz_knowledge&#x27;,\n",
       "                                                   &#x27;behavioral_antiviral_meds&#x27;,\n",
       "                                                   &#x27;behavioral_avoidance&#x27;,\n",
       "                                                   &#x27;behavioral_face_mask&#x27;,\n",
       "                                                   &#x27;behavioral_wash_hands&#x27;,\n",
       "                                                   &#x27;behavioral_large_gatherings&#x27;,\n",
       "                                                   &#x27;behavioral_outside_home&#x27;,\n",
       "                                                   &#x27;behavioral_touch_face&#x27;,\n",
       "                                                   &#x27;doctor_rec...\n",
       "                                                   &#x27;opinion_seas_sick_from_vacc&#x27;,\n",
       "                                                   &#x27;household_adults&#x27;,\n",
       "                                                   &#x27;household_children&#x27;]),\n",
       "                                                 (&#x27;cat&#x27;,\n",
       "                                                  OneHotEncoder(handle_unknown=&#x27;ignore&#x27;),\n",
       "                                                  [&#x27;age_group&#x27;, &#x27;education&#x27;,\n",
       "                                                   &#x27;race&#x27;, &#x27;sex&#x27;,\n",
       "                                                   &#x27;income_poverty&#x27;,\n",
       "                                                   &#x27;marital_status&#x27;,\n",
       "                                                   &#x27;rent_or_own&#x27;,\n",
       "                                                   &#x27;employment_status&#x27;,\n",
       "                                                   &#x27;hhs_geo_region&#x27;,\n",
       "                                                   &#x27;census_msa&#x27;,\n",
       "                                                   &#x27;employment_industry&#x27;,\n",
       "                                                   &#x27;employment_occupation&#x27;])])),\n",
       "                (&#x27;model&#x27;, GradientBoostingClassifier(random_state=42))])</pre><b>In a Jupyter environment, please rerun this cell to show the HTML representation or trust the notebook. <br />On GitHub, the HTML representation is unable to render, please try loading this page with nbviewer.org.</b></div><div class=\"sk-container\" hidden><div class=\"sk-item sk-dashed-wrapped\"><div class=\"sk-label-container\"><div class=\"sk-label sk-toggleable\"><input class=\"sk-toggleable__control sk-hidden--visually\" id=\"sk-estimator-id-36\" type=\"checkbox\" ><label for=\"sk-estimator-id-36\" class=\"sk-toggleable__label sk-toggleable__label-arrow\">Pipeline</label><div class=\"sk-toggleable__content\"><pre>Pipeline(steps=[(&#x27;preprocessor&#x27;,\n",
       "                 ColumnTransformer(transformers=[(&#x27;num&#x27;,\n",
       "                                                  IterativeImputer(estimator=LinearRegression(),\n",
       "                                                                   max_iter=30),\n",
       "                                                  [&#x27;xyz_concern&#x27;,\n",
       "                                                   &#x27;xyz_knowledge&#x27;,\n",
       "                                                   &#x27;behavioral_antiviral_meds&#x27;,\n",
       "                                                   &#x27;behavioral_avoidance&#x27;,\n",
       "                                                   &#x27;behavioral_face_mask&#x27;,\n",
       "                                                   &#x27;behavioral_wash_hands&#x27;,\n",
       "                                                   &#x27;behavioral_large_gatherings&#x27;,\n",
       "                                                   &#x27;behavioral_outside_home&#x27;,\n",
       "                                                   &#x27;behavioral_touch_face&#x27;,\n",
       "                                                   &#x27;doctor_rec...\n",
       "                                                   &#x27;opinion_seas_sick_from_vacc&#x27;,\n",
       "                                                   &#x27;household_adults&#x27;,\n",
       "                                                   &#x27;household_children&#x27;]),\n",
       "                                                 (&#x27;cat&#x27;,\n",
       "                                                  OneHotEncoder(handle_unknown=&#x27;ignore&#x27;),\n",
       "                                                  [&#x27;age_group&#x27;, &#x27;education&#x27;,\n",
       "                                                   &#x27;race&#x27;, &#x27;sex&#x27;,\n",
       "                                                   &#x27;income_poverty&#x27;,\n",
       "                                                   &#x27;marital_status&#x27;,\n",
       "                                                   &#x27;rent_or_own&#x27;,\n",
       "                                                   &#x27;employment_status&#x27;,\n",
       "                                                   &#x27;hhs_geo_region&#x27;,\n",
       "                                                   &#x27;census_msa&#x27;,\n",
       "                                                   &#x27;employment_industry&#x27;,\n",
       "                                                   &#x27;employment_occupation&#x27;])])),\n",
       "                (&#x27;model&#x27;, GradientBoostingClassifier(random_state=42))])</pre></div></div></div><div class=\"sk-serial\"><div class=\"sk-item sk-dashed-wrapped\"><div class=\"sk-label-container\"><div class=\"sk-label sk-toggleable\"><input class=\"sk-toggleable__control sk-hidden--visually\" id=\"sk-estimator-id-37\" type=\"checkbox\" ><label for=\"sk-estimator-id-37\" class=\"sk-toggleable__label sk-toggleable__label-arrow\">preprocessor: ColumnTransformer</label><div class=\"sk-toggleable__content\"><pre>ColumnTransformer(transformers=[(&#x27;num&#x27;,\n",
       "                                 IterativeImputer(estimator=LinearRegression(),\n",
       "                                                  max_iter=30),\n",
       "                                 [&#x27;xyz_concern&#x27;, &#x27;xyz_knowledge&#x27;,\n",
       "                                  &#x27;behavioral_antiviral_meds&#x27;,\n",
       "                                  &#x27;behavioral_avoidance&#x27;,\n",
       "                                  &#x27;behavioral_face_mask&#x27;,\n",
       "                                  &#x27;behavioral_wash_hands&#x27;,\n",
       "                                  &#x27;behavioral_large_gatherings&#x27;,\n",
       "                                  &#x27;behavioral_outside_home&#x27;,\n",
       "                                  &#x27;behavioral_touch_face&#x27;, &#x27;doctor_recc_xyz&#x27;,\n",
       "                                  &#x27;doctor_recc_seasonal&#x27;,\n",
       "                                  &#x27;c...\n",
       "                                  &#x27;opinion_seas_vacc_effective&#x27;,\n",
       "                                  &#x27;opinion_seas_risk&#x27;,\n",
       "                                  &#x27;opinion_seas_sick_from_vacc&#x27;,\n",
       "                                  &#x27;household_adults&#x27;, &#x27;household_children&#x27;]),\n",
       "                                (&#x27;cat&#x27;, OneHotEncoder(handle_unknown=&#x27;ignore&#x27;),\n",
       "                                 [&#x27;age_group&#x27;, &#x27;education&#x27;, &#x27;race&#x27;, &#x27;sex&#x27;,\n",
       "                                  &#x27;income_poverty&#x27;, &#x27;marital_status&#x27;,\n",
       "                                  &#x27;rent_or_own&#x27;, &#x27;employment_status&#x27;,\n",
       "                                  &#x27;hhs_geo_region&#x27;, &#x27;census_msa&#x27;,\n",
       "                                  &#x27;employment_industry&#x27;,\n",
       "                                  &#x27;employment_occupation&#x27;])])</pre></div></div></div><div class=\"sk-parallel\"><div class=\"sk-parallel-item\"><div class=\"sk-item\"><div class=\"sk-label-container\"><div class=\"sk-label sk-toggleable\"><input class=\"sk-toggleable__control sk-hidden--visually\" id=\"sk-estimator-id-38\" type=\"checkbox\" ><label for=\"sk-estimator-id-38\" class=\"sk-toggleable__label sk-toggleable__label-arrow\">num</label><div class=\"sk-toggleable__content\"><pre>[&#x27;xyz_concern&#x27;, &#x27;xyz_knowledge&#x27;, &#x27;behavioral_antiviral_meds&#x27;, &#x27;behavioral_avoidance&#x27;, &#x27;behavioral_face_mask&#x27;, &#x27;behavioral_wash_hands&#x27;, &#x27;behavioral_large_gatherings&#x27;, &#x27;behavioral_outside_home&#x27;, &#x27;behavioral_touch_face&#x27;, &#x27;doctor_recc_xyz&#x27;, &#x27;doctor_recc_seasonal&#x27;, &#x27;chronic_med_condition&#x27;, &#x27;child_under_6_months&#x27;, &#x27;health_worker&#x27;, &#x27;health_insurance&#x27;, &#x27;opinion_xyz_vacc_effective&#x27;, &#x27;opinion_xyz_risk&#x27;, &#x27;opinion_xyz_sick_from_vacc&#x27;, &#x27;opinion_seas_vacc_effective&#x27;, &#x27;opinion_seas_risk&#x27;, &#x27;opinion_seas_sick_from_vacc&#x27;, &#x27;household_adults&#x27;, &#x27;household_children&#x27;]</pre></div></div></div><div class=\"sk-serial\"><div class=\"sk-item sk-dashed-wrapped\"><div class=\"sk-parallel\"><div class=\"sk-parallel-item\"><div class=\"sk-item\"><div class=\"sk-label-container\"><div class=\"sk-label sk-toggleable\"><input class=\"sk-toggleable__control sk-hidden--visually\" id=\"sk-estimator-id-39\" type=\"checkbox\" ><label for=\"sk-estimator-id-39\" class=\"sk-toggleable__label sk-toggleable__label-arrow\">estimator: LinearRegression</label><div class=\"sk-toggleable__content\"><pre>LinearRegression()</pre></div></div></div><div class=\"sk-serial\"><div class=\"sk-item\"><div class=\"sk-estimator sk-toggleable\"><input class=\"sk-toggleable__control sk-hidden--visually\" id=\"sk-estimator-id-40\" type=\"checkbox\" ><label for=\"sk-estimator-id-40\" class=\"sk-toggleable__label sk-toggleable__label-arrow\">LinearRegression</label><div class=\"sk-toggleable__content\"><pre>LinearRegression()</pre></div></div></div></div></div></div></div></div></div></div></div><div class=\"sk-parallel-item\"><div class=\"sk-item\"><div class=\"sk-label-container\"><div class=\"sk-label sk-toggleable\"><input class=\"sk-toggleable__control sk-hidden--visually\" id=\"sk-estimator-id-41\" type=\"checkbox\" ><label for=\"sk-estimator-id-41\" class=\"sk-toggleable__label sk-toggleable__label-arrow\">cat</label><div class=\"sk-toggleable__content\"><pre>[&#x27;age_group&#x27;, &#x27;education&#x27;, &#x27;race&#x27;, &#x27;sex&#x27;, &#x27;income_poverty&#x27;, &#x27;marital_status&#x27;, &#x27;rent_or_own&#x27;, &#x27;employment_status&#x27;, &#x27;hhs_geo_region&#x27;, &#x27;census_msa&#x27;, &#x27;employment_industry&#x27;, &#x27;employment_occupation&#x27;]</pre></div></div></div><div class=\"sk-serial\"><div class=\"sk-item\"><div class=\"sk-estimator sk-toggleable\"><input class=\"sk-toggleable__control sk-hidden--visually\" id=\"sk-estimator-id-42\" type=\"checkbox\" ><label for=\"sk-estimator-id-42\" class=\"sk-toggleable__label sk-toggleable__label-arrow\">OneHotEncoder</label><div class=\"sk-toggleable__content\"><pre>OneHotEncoder(handle_unknown=&#x27;ignore&#x27;)</pre></div></div></div></div></div></div></div></div><div class=\"sk-item\"><div class=\"sk-estimator sk-toggleable\"><input class=\"sk-toggleable__control sk-hidden--visually\" id=\"sk-estimator-id-43\" type=\"checkbox\" ><label for=\"sk-estimator-id-43\" class=\"sk-toggleable__label sk-toggleable__label-arrow\">GradientBoostingClassifier</label><div class=\"sk-toggleable__content\"><pre>GradientBoostingClassifier(random_state=42)</pre></div></div></div></div></div></div></div>"
      ],
      "text/plain": [
       "Pipeline(steps=[('preprocessor',\n",
       "                 ColumnTransformer(transformers=[('num',\n",
       "                                                  IterativeImputer(estimator=LinearRegression(),\n",
       "                                                                   max_iter=30),\n",
       "                                                  ['xyz_concern',\n",
       "                                                   'xyz_knowledge',\n",
       "                                                   'behavioral_antiviral_meds',\n",
       "                                                   'behavioral_avoidance',\n",
       "                                                   'behavioral_face_mask',\n",
       "                                                   'behavioral_wash_hands',\n",
       "                                                   'behavioral_large_gatherings',\n",
       "                                                   'behavioral_outside_home',\n",
       "                                                   'behavioral_touch_face',\n",
       "                                                   'doctor_rec...\n",
       "                                                   'opinion_seas_sick_from_vacc',\n",
       "                                                   'household_adults',\n",
       "                                                   'household_children']),\n",
       "                                                 ('cat',\n",
       "                                                  OneHotEncoder(handle_unknown='ignore'),\n",
       "                                                  ['age_group', 'education',\n",
       "                                                   'race', 'sex',\n",
       "                                                   'income_poverty',\n",
       "                                                   'marital_status',\n",
       "                                                   'rent_or_own',\n",
       "                                                   'employment_status',\n",
       "                                                   'hhs_geo_region',\n",
       "                                                   'census_msa',\n",
       "                                                   'employment_industry',\n",
       "                                                   'employment_occupation'])])),\n",
       "                ('model', GradientBoostingClassifier(random_state=42))])"
      ]
     },
     "execution_count": 67,
     "metadata": {},
     "output_type": "execute_result"
    }
   ],
   "source": [
    "# Train the models on the training split\n",
    "pipeline_xyz.fit(X_train_split, y_train_split_xyz)\n",
    "pipeline_seasonal.fit(X_train_split, y_train_split_seasonal)"
   ]
  },
  {
   "cell_type": "code",
   "execution_count": 68,
   "id": "ea063cb2",
   "metadata": {},
   "outputs": [
    {
     "name": "stdout",
     "output_type": "stream",
     "text": [
      "[0.12844169 0.14161048 0.08930988 ... 0.73160499 0.06811546 0.04014181]\n",
      "[0.20425618 0.18552783 0.83706536 ... 0.63588354 0.55373301 0.66101469]\n"
     ]
    }
   ],
   "source": [
    "# Evaluate the models on the validation split\n",
    "val_predictions_xyz = pipeline_xyz.predict_proba(X_val_split)[:, 1]\n",
    "val_predictions_seasonal = pipeline_seasonal.predict_proba(X_val_split)[:, 1]\n",
    "print(val_predictions_xyz)\n",
    "print(val_predictions_seasonal)"
   ]
  },
  {
   "cell_type": "code",
   "execution_count": 69,
   "id": "1c6edd99",
   "metadata": {},
   "outputs": [
    {
     "name": "stdout",
     "output_type": "stream",
     "text": [
      "<function roc_auc_score at 0x0000026EBD2C8CC0>\n"
     ]
    }
   ],
   "source": [
    "roc_auc_score(y_val_split_xyz, val_predictions_xyz)\n",
    "roc_auc_score(y_val_split_seasonal, val_predictions_seasonal)\n",
    "print(roc_auc_score)"
   ]
  },
  {
   "cell_type": "code",
   "execution_count": 70,
   "id": "f14a4891",
   "metadata": {},
   "outputs": [
    {
     "name": "stdout",
     "output_type": "stream",
     "text": [
      "[0.11918968 0.03431236 0.16458618 ... 0.14693432 0.03810482 0.58904286]\n",
      "[0.24963985 0.05354874 0.57514252 ... 0.2698271  0.26473242 0.68953029]\n"
     ]
    }
   ],
   "source": [
    "# Predict on test set (excluding 'respondent_id' from features)\n",
    "test_predictions_xyz = pipeline_xyz.predict_proba(test_features.drop('respondent_id', axis=1))[:, 1]\n",
    "test_predictions_seasonal = pipeline_seasonal.predict_proba(test_features.drop('respondent_id', axis=1))[:, 1]\n",
    "print(test_predictions_xyz)\n",
    "print(test_predictions_seasonal)"
   ]
  },
  {
   "cell_type": "code",
   "execution_count": 75,
   "id": "999720d4",
   "metadata": {},
   "outputs": [],
   "source": [
    "# Prepare submission file\n",
    "submission = pd.DataFrame({\n",
    "    'respondent_id': test_features['respondent_id'],\n",
    "    'xyz_vaccine': test_predictions_xyz,\n",
    "    'seasonal_vaccine': test_predictions_seasonal\n",
    "})\n",
    "submission.to_csv('C:/Users/anwes/Downloads/dataset and all/submission.csv', index=False)"
   ]
  },
  {
   "cell_type": "code",
   "execution_count": null,
   "id": "815802e3",
   "metadata": {},
   "outputs": [],
   "source": []
  }
 ],
 "metadata": {
  "kernelspec": {
   "display_name": "Python 3 (ipykernel)",
   "language": "python",
   "name": "python3"
  },
  "language_info": {
   "codemirror_mode": {
    "name": "ipython",
    "version": 3
   },
   "file_extension": ".py",
   "mimetype": "text/x-python",
   "name": "python",
   "nbconvert_exporter": "python",
   "pygments_lexer": "ipython3",
   "version": "3.11.7"
  }
 },
 "nbformat": 4,
 "nbformat_minor": 5
}
